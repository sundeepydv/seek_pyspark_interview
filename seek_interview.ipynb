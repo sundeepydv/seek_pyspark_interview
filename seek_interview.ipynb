{
 "cells": [
  {
   "cell_type": "code",
   "execution_count": 1,
   "id": "5eb52e5a-c2bf-4d70-8550-b653c761cb77",
   "metadata": {
    "tags": []
   },
   "outputs": [],
   "source": [
    "## Download Test Data\n",
    "!wget -q https://coding-challenge-public.s3.ap-southeast-2.amazonaws.com/test-data.zip"
   ]
  },
  {
   "cell_type": "code",
   "execution_count": 2,
   "id": "157feb24-0729-4d27-b63c-d426f84cdae9",
   "metadata": {
    "tags": []
   },
   "outputs": [
    {
     "name": "stdout",
     "output_type": "stream",
     "text": [
      "Archive:  /home/jovyan/test-data.zip\n",
      "  inflating: /home/jovyan/test_data/part18.json  \n",
      "  inflating: /home/jovyan/test_data/part8.json  \n",
      "  inflating: /home/jovyan/test_data/part14.json  \n",
      "  inflating: /home/jovyan/test_data/part4.json  \n",
      "  inflating: /home/jovyan/test_data/part5.json  \n",
      "  inflating: /home/jovyan/test_data/part15.json  \n",
      "  inflating: /home/jovyan/test_data/part9.json  \n",
      "  inflating: /home/jovyan/test_data/part19.json  \n",
      "  inflating: /home/jovyan/test_data/part12.json  \n",
      "  inflating: /home/jovyan/test_data/part2.json  \n",
      "  inflating: /home/jovyan/test_data/part3.json  \n",
      "  inflating: /home/jovyan/test_data/part13.json  \n",
      "  inflating: /home/jovyan/test_data/part0.json  \n",
      "  inflating: /home/jovyan/test_data/part10.json  \n",
      "  inflating: /home/jovyan/test_data/part11.json  \n",
      "  inflating: /home/jovyan/test_data/part1.json  \n",
      "  inflating: /home/jovyan/test_data/part6.json  \n",
      "  inflating: /home/jovyan/test_data/part16.json  \n",
      "  inflating: /home/jovyan/test_data/part17.json  \n",
      "  inflating: /home/jovyan/test_data/part7.json  \n"
     ]
    }
   ],
   "source": [
    "## Unzip Test Data\n",
    "! unzip  -o  -P By9FNTZXp4j4izuufAs= ~/test-data.zip -d ~/"
   ]
  },
  {
   "cell_type": "code",
   "execution_count": 3,
   "id": "e05c1208-0c3a-46d6-8afa-973abaff5348",
   "metadata": {
    "tags": []
   },
   "outputs": [],
   "source": [
    "from pyspark.sql import SparkSession\n",
    "spark = SparkSession.builder.master(\"local[*]\").appName(\"seek_interview\").getOrCreate()"
   ]
  },
  {
   "cell_type": "code",
   "execution_count": 4,
   "id": "3b2519ab-ea68-486e-8a26-3b1ce794b06a",
   "metadata": {
    "tags": []
   },
   "outputs": [
    {
     "data": {
      "text/html": [
       "\n",
       "            <div>\n",
       "                <p><b>SparkSession - in-memory</b></p>\n",
       "                \n",
       "        <div>\n",
       "            <p><b>SparkContext</b></p>\n",
       "\n",
       "            <p><a href=\"http://99d2c0cbc612:4040\">Spark UI</a></p>\n",
       "\n",
       "            <dl>\n",
       "              <dt>Version</dt>\n",
       "                <dd><code>v3.3.2</code></dd>\n",
       "              <dt>Master</dt>\n",
       "                <dd><code>local[*]</code></dd>\n",
       "              <dt>AppName</dt>\n",
       "                <dd><code>seek_interview</code></dd>\n",
       "            </dl>\n",
       "        </div>\n",
       "        \n",
       "            </div>\n",
       "        "
      ],
      "text/plain": [
       "<pyspark.sql.session.SparkSession at 0x7f118af5f310>"
      ]
     },
     "execution_count": 4,
     "metadata": {},
     "output_type": "execute_result"
    }
   ],
   "source": [
    "spark"
   ]
  },
  {
   "cell_type": "code",
   "execution_count": 6,
   "id": "b60145d0-fff4-4d02-95c4-5350e77a4b20",
   "metadata": {
    "tags": []
   },
   "outputs": [
    {
     "name": "stdout",
     "output_type": "stream",
     "text": [
      "root\n",
      " |-- id: string (nullable = true)\n",
      " |-- profile: struct (nullable = true)\n",
      " |    |-- firstName: string (nullable = true)\n",
      " |    |-- jobHistory: array (nullable = true)\n",
      " |    |    |-- element: struct (containsNull = true)\n",
      " |    |    |    |-- fromDate: string (nullable = true)\n",
      " |    |    |    |-- location: string (nullable = true)\n",
      " |    |    |    |-- salary: long (nullable = true)\n",
      " |    |    |    |-- title: string (nullable = true)\n",
      " |    |    |    |-- toDate: string (nullable = true)\n",
      " |    |-- lastName: string (nullable = true)\n",
      "\n",
      "There's 17139693 rows in Test Data\n"
     ]
    }
   ],
   "source": [
    "# 1. Load the dataset into a Spark dataframe.\n",
    "# 2. Print the schema\n",
    "# 3. How many records are there in the dataset?\n",
    "\n",
    "test_data_df = spark.read.json(\"test_data/*.json\")\n",
    "number_of_rows = test_data_df.count()\n",
    "test_data_df.printSchema()\n",
    "print(\"There's %d rows in Test Data\"%number_of_rows)"
   ]
  },
  {
   "cell_type": "code",
   "execution_count": 7,
   "id": "2d588bcb-58cc-49e7-9bfd-409801dc767d",
   "metadata": {
    "tags": []
   },
   "outputs": [
    {
     "name": "stdout",
     "output_type": "stream",
     "text": [
      "+--------------------+---------+--------+------------------+\n",
      "|                  id|firstName|lastName|            salary|\n",
      "+--------------------+---------+--------+------------------+\n",
      "|82dab74c-3946-45b...|   Robert|  Zywiec| 66833.33333333333|\n",
      "|ba24222d-6e39-40d...|  Matthew|  Zywiec|           65500.0|\n",
      "|5894afab-574f-429...|  Richard|  Zywiec|           69625.0|\n",
      "|8137bbb1-e6d6-4cb...|    Scott| Zywicki|           82500.0|\n",
      "|cf56af73-988b-4b0...|   Joseph| Zywicki|           53625.0|\n",
      "|e568d991-18c4-43c...|    Doris| Zywicki| 95666.66666666667|\n",
      "|03aeca24-7be1-42a...|  Charles| Zywicki|           95000.0|\n",
      "|40fa57e1-5f0e-45e...|    James| Zywicki|           86000.0|\n",
      "|af1598d7-9faf-4cd...|  Therese| Zywicki|113166.66666666667|\n",
      "|cc529ff4-2dbf-4ce...|  Cherryl| Zywicki|47666.666666666664|\n",
      "+--------------------+---------+--------+------------------+\n",
      "\n"
     ]
    }
   ],
   "source": [
    "# 4. What is the average salary for each profile? Display the first 10 results, ordered by lastName in descending order.\n",
    "test_data_df.createOrReplaceTempView(\"test_data_tab\")\n",
    "#q4=spark.sql(\"select id,profile.firstName,profile.lastName,profile.jobHistory from test_data_tab limit 5\").show(5)\n",
    "q1=spark.sql(\n",
    "            \"Select id, \\\n",
    "                    firstName, \\\n",
    "                    lastName, \\\n",
    "                    avg(jobHistory.salary) salary \\\n",
    "            from \\\n",
    "                (select id, \\\n",
    "                    profile.firstName,\\\n",
    "                    profile.lastName, \\\n",
    "                    explode(profile.jobHistory) as jobHistory \\\n",
    "                 from test_data_tab \\\n",
    "                 ) \\\n",
    "            group by 1,2,3 \\\n",
    "            order by lastName desc \\\n",
    "            limit 10\"\n",
    "            ).show()"
   ]
  },
  {
   "cell_type": "code",
   "execution_count": 8,
   "id": "4336b785-a04d-40bb-bc2b-88aa92976310",
   "metadata": {
    "tags": []
   },
   "outputs": [
    {
     "name": "stdout",
     "output_type": "stream",
     "text": [
      "+----------------+\n",
      "|          salary|\n",
      "+----------------+\n",
      "|97473.6229416272|\n",
      "+----------------+\n",
      "\n"
     ]
    }
   ],
   "source": [
    "#5. What is the average salary across the whole dataset?\n",
    "q5=spark.sql(\n",
    "            \"Select avg(jobHistory.salary) salary \\\n",
    "            from \\\n",
    "                (select id, \\\n",
    "                    profile.firstName,\\\n",
    "                    profile.lastName, \\\n",
    "                    explode(profile.jobHistory) as jobHistory \\\n",
    "                 from test_data_tab \\\n",
    "                 ) \\\n",
    "            \"\n",
    "            ).show()"
   ]
  },
  {
   "cell_type": "code",
   "execution_count": 9,
   "id": "6dfb8051-df5f-4f62-b90b-e7397a309081",
   "metadata": {
    "tags": []
   },
   "outputs": [
    {
     "name": "stdout",
     "output_type": "stream",
     "text": [
      "+----------------------+------+---------+----------------+---+\n",
      "|title                 |salary|location |Category        |rnk|\n",
      "+----------------------+------+---------+----------------+---+\n",
      "|Administration Officer|159000|Adelaide |High Paying jobs|1  |\n",
      "|Administration Officer|159000|Brisbane |High Paying jobs|2  |\n",
      "|Administration Officer|159000|Canberra |High Paying jobs|3  |\n",
      "|Administration Officer|159000|Hobart   |High Paying jobs|4  |\n",
      "|Administration Officer|159000|Melbourne|High Paying jobs|5  |\n",
      "+----------------------+------+---------+----------------+---+\n",
      "\n",
      "+-----------------------+------+---------+---------------+---+\n",
      "|title                  |salary|location |Category       |rnk|\n",
      "+-----------------------+------+---------+---------------+---+\n",
      "|counter manager        |-6000 |Melbourne|Low Paying jobs|1  |\n",
      "|human resources manager|-6000 |Melbourne|Low Paying jobs|2  |\n",
      "|registration officer   |-4000 |Canberra |Low Paying jobs|3  |\n",
      "|Warehouse Storeperson  |-3000 |Melbourne|Low Paying jobs|4  |\n",
      "|dental assistant       |-3000 |Hobart   |Low Paying jobs|5  |\n",
      "+-----------------------+------+---------+---------------+---+\n",
      "\n"
     ]
    }
   ],
   "source": [
    "#6. On average, what are the top 5 paying jobs? Bottom 5 paying jobs? If there is a tie, please order by title, location.\n",
    "q6_1=spark.sql(\n",
    "            \"Select title, \\\n",
    "                    salary, \\\n",
    "                    location, \\\n",
    "                    'High Paying jobs' Category, \\\n",
    "                    row_number() over (order by (salary)  desc , title asc, location asc) rnk \\\n",
    "            from (\\\n",
    "                  Select distinct jobHistory.title, \\\n",
    "                        jobHistory.salary, \\\n",
    "                        jobHistory.location \\\n",
    "            from (\\\n",
    "                    select id, \\\n",
    "                        profile.firstName,\\\n",
    "                        profile.lastName, \\\n",
    "                        explode(profile.jobHistory) as jobHistory \\\n",
    "                     from test_data_tab \\\n",
    "                 ) \\\n",
    "                ) \\\n",
    "            order by rnk asc \\\n",
    "            limit 5\"\n",
    "            ).show(5,False)\n",
    "\n",
    "q6_2=spark.sql(\n",
    "            \"Select title, \\\n",
    "                    salary, \\\n",
    "                    location, \\\n",
    "                    'Low Paying jobs' Category, \\\n",
    "                    row_number() over (order by (salary)  asc , title asc, location asc) rnk \\\n",
    "            from (\\\n",
    "                  Select distinct jobHistory.title, \\\n",
    "                        jobHistory.salary, \\\n",
    "                        jobHistory.location \\\n",
    "            from (\\\n",
    "                    select id, \\\n",
    "                        profile.firstName,\\\n",
    "                        profile.lastName, \\\n",
    "                        explode(profile.jobHistory) as jobHistory \\\n",
    "                     from test_data_tab \\\n",
    "                 ) \\\n",
    "                ) \\\n",
    "            order by rnk asc \\\n",
    "            limit 5\"\n",
    "            ).show(5,False)"
   ]
  },
  {
   "cell_type": "code",
   "execution_count": 10,
   "id": "1508c20c-8de2-4e5c-92b1-65c511a21f32",
   "metadata": {
    "tags": []
   },
   "outputs": [
    {
     "name": "stdout",
     "output_type": "stream",
     "text": [
      "+---------+---------+----------------------+----------+----------+---+\n",
      "|firstName|lastName |title                 |fromDate  |avg_salary|rnk|\n",
      "+---------+---------+----------------------+----------+----------+---+\n",
      "|Sandra   |Zyskowski|procurement specialist|2015-04-11|159000    |1  |\n",
      "+---------+---------+----------------------+----------+----------+---+\n",
      "\n"
     ]
    }
   ],
   "source": [
    "#7. Who is currently making the most money? If there is a tie, please order in lastName descending, fromDate descending.\n",
    "q7=spark.sql(\n",
    "            \"Select firstName, \\\n",
    "                    lastName, \\\n",
    "                    jobHistory.title, \\\n",
    "                    jobHistory.fromDate, \\\n",
    "                    max(jobHistory.salary) avg_salary, \\\n",
    "                    row_number() over ( order by max(jobHistory.salary)  desc , lastName desc, jobHistory.fromDate desc) rnk \\\n",
    "            from \\\n",
    "                (select id, \\\n",
    "                    profile.firstName,\\\n",
    "                    profile.lastName, \\\n",
    "                    explode(profile.jobHistory) as jobHistory \\\n",
    "                 from test_data_tab \\\n",
    "                 ) \\\n",
    "            group by 1,2,3,4 \\\n",
    "            order by rnk asc \\\n",
    "            limit 1\"\n",
    "            ).show(1,False)"
   ]
  },
  {
   "cell_type": "code",
   "execution_count": 11,
   "id": "7ba14125-5a9b-4047-aedd-b4fb5dae8f9f",
   "metadata": {
    "tags": []
   },
   "outputs": [
    {
     "name": "stdout",
     "output_type": "stream",
     "text": [
      "+-----------------+---+\n",
      "|title            |rnk|\n",
      "+-----------------+---+\n",
      "|Sheetmetal Worker|1  |\n",
      "+-----------------+---+\n",
      "\n"
     ]
    }
   ],
   "source": [
    "#8. What was the most popular job title that started in 2019?\n",
    "q8=spark.sql(\n",
    "            \"Select jobHistory.title, \\\n",
    "                    row_number() over ( order by count(distinct id)  desc) rnk \\\n",
    "            from \\\n",
    "                (select id, \\\n",
    "                    profile.firstName,\\\n",
    "                    profile.lastName, \\\n",
    "                    explode(profile.jobHistory) as jobHistory \\\n",
    "                 from test_data_tab \\\n",
    "                 ) \\\n",
    "            where year(jobHistory.fromDate)=2019 \\\n",
    "            group by 1 \\\n",
    "            order by rnk asc \\\n",
    "            limit 1\"\n",
    "            ).show(1,False)"
   ]
  },
  {
   "cell_type": "code",
   "execution_count": 12,
   "id": "2f2e5f64-b492-41ab-9186-7bb583690553",
   "metadata": {
    "tags": []
   },
   "outputs": [
    {
     "name": "stdout",
     "output_type": "stream",
     "text": [
      "+---------------------+\n",
      "|current_workers_count|\n",
      "+---------------------+\n",
      "|7710613              |\n",
      "+---------------------+\n",
      "\n"
     ]
    }
   ],
   "source": [
    "#9. How many people are currently working?\n",
    "q9=spark.sql(\n",
    "            \"Select count(distinct id) current_workers_count \\\n",
    "            from \\\n",
    "                (select id, \\\n",
    "                    profile.firstName,\\\n",
    "                    profile.lastName, \\\n",
    "                    explode(profile.jobHistory) as jobHistory \\\n",
    "                 from test_data_tab \\\n",
    "                 ) \\\n",
    "            where jobHistory.toDate is null\\\n",
    "            limit 1\"\n",
    "            ).show(1,False)"
   ]
  },
  {
   "cell_type": "code",
   "execution_count": 13,
   "id": "b7bf7267-c19c-4be8-99e8-2d828f819c90",
   "metadata": {
    "tags": []
   },
   "outputs": [
    {
     "name": "stdout",
     "output_type": "stream",
     "text": [
      "+---------+--------+----------------------------+\n",
      "|firstName|lastName|title                       |\n",
      "+---------+--------+----------------------------+\n",
      "|Matthew  |Zywiec  |Multi Site Manager          |\n",
      "|Richard  |Zywiec  |assembler                   |\n",
      "|Robert   |Zywiec  |registration officer        |\n",
      "|Bobby    |Zywicki |taxation accountant         |\n",
      "|Calvin   |Zywicki |assistant operations manager|\n",
      "|Charles  |Zywicki |sales consultant            |\n",
      "|Cherryl  |Zywicki |trimmer                     |\n",
      "|Christine|Zywicki |internal sales              |\n",
      "|Darlene  |Zywicki |evaluator                   |\n",
      "|Donna    |Zywicki |internal sales              |\n",
      "+---------+--------+----------------------------+\n",
      "\n"
     ]
    }
   ],
   "source": [
    "#10. For each person, list only their latest job. Display the first 10 results, ordered by lastName descending, firstName ascending order.\n",
    "q10=spark.sql(\n",
    "            \"Select firstName, \\\n",
    "                    lastName, \\\n",
    "                    title \\\n",
    "            from( Select id, \\\n",
    "                    firstName, \\\n",
    "                    lastName, \\\n",
    "                    jobHistory.title, \\\n",
    "                    row_number() over (partition by id order by coalesce(jobHistory.toDate,'9999') desc) rnk \\\n",
    "                from \\\n",
    "                    (select id, \\\n",
    "                        profile.firstName,\\\n",
    "                        profile.lastName, \\\n",
    "                        explode(profile.jobHistory) as jobHistory \\\n",
    "                     from test_data_tab \\\n",
    "                     ) \\\n",
    "                ) \\\n",
    "            where rnk=1 \\\n",
    "            order by lastName desc, firstName asc \\\n",
    "            limit 10\"\n",
    "            ).show(10,False)"
   ]
  },
  {
   "cell_type": "code",
   "execution_count": 14,
   "id": "c42c16d4-7be3-4861-a5ac-1d481a9dfbad",
   "metadata": {
    "tags": []
   },
   "outputs": [
    {
     "name": "stdout",
     "output_type": "stream",
     "text": [
      "+---------+--------+------+-----------------+\n",
      "|firstName|lastName|salary|high_sal_job_year|\n",
      "+---------+--------+------+-----------------+\n",
      "|Matthew  |Zywiec  |67000 |2017             |\n",
      "|Richard  |Zywiec  |83000 |2018             |\n",
      "|Robert   |Zywiec  |85000 |2016             |\n",
      "|Bobby    |Zywicki |89000 |2017             |\n",
      "|Calvin   |Zywicki |144000|2015             |\n",
      "|Charles  |Zywicki |95000 |2016             |\n",
      "|Cherryl  |Zywicki |66000 |2017             |\n",
      "|Christine|Zywicki |71000 |2018             |\n",
      "|Darlene  |Zywicki |76000 |2014             |\n",
      "|Donna    |Zywicki |115000|2019             |\n",
      "+---------+--------+------+-----------------+\n",
      "only showing top 10 rows\n",
      "\n"
     ]
    }
   ],
   "source": [
    "#11. For each person, list their highest paying job along with their first name, last name, salary and the year they made this salary. \n",
    "#    Store the results in a dataframe, and then print out 10 results\n",
    "\n",
    "q11=spark.sql(\n",
    "            \"Select firstName, \\\n",
    "                    lastName, \\\n",
    "                    salary ,\\\n",
    "                    high_sal_job_year \\\n",
    "            from( Select id, \\\n",
    "                    firstName, \\\n",
    "                    lastName, \\\n",
    "                    jobHistory.salary, \\\n",
    "                    year(jobHistory.fromDate) high_sal_job_year, \\\n",
    "                    row_number() over (partition by id order by jobHistory.salary desc) rnk \\\n",
    "                from \\\n",
    "                    (select id, \\\n",
    "                        profile.firstName,\\\n",
    "                        profile.lastName, \\\n",
    "                        explode(profile.jobHistory) as jobHistory \\\n",
    "                     from test_data_tab \\\n",
    "                     ) \\\n",
    "                ) \\\n",
    "            where rnk=1 \\\n",
    "            order by lastName desc, firstName asc \\\n",
    "            \"\n",
    "            )\n",
    "q11.show(10,False)"
   ]
  },
  {
   "cell_type": "code",
   "execution_count": 15,
   "id": "24c73ca9-afb7-4e0b-96b1-be8df03e84a2",
   "metadata": {
    "tags": []
   },
   "outputs": [],
   "source": [
    "#12. Write out the last result (question 11) in parquet format, compressed, partitioned by the year of their highest paying job.\n",
    "q11.write.partitionBy(\"high_sal_job_year\").mode('overwrite').option(\"compression\",\"gzip\").parquet(\"q11.parquet\")"
   ]
  },
  {
   "cell_type": "code",
   "execution_count": null,
   "id": "53d6d50c-d06a-4ded-aa02-11fdbe428266",
   "metadata": {},
   "outputs": [],
   "source": []
  }
 ],
 "metadata": {
  "kernelspec": {
   "display_name": "Python 3 (ipykernel)",
   "language": "python",
   "name": "python3"
  },
  "language_info": {
   "codemirror_mode": {
    "name": "ipython",
    "version": 3
   },
   "file_extension": ".py",
   "mimetype": "text/x-python",
   "name": "python",
   "nbconvert_exporter": "python",
   "pygments_lexer": "ipython3",
   "version": "3.10.9"
  }
 },
 "nbformat": 4,
 "nbformat_minor": 5
}
